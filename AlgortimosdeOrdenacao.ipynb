{
  "nbformat": 4,
  "nbformat_minor": 0,
  "metadata": {
    "colab": {
      "name": "Untitled6.ipynb",
      "provenance": [],
      "authorship_tag": "ABX9TyNQ80DZJmU2/W0pMQ2NT5zi",
      "include_colab_link": true
    },
    "kernelspec": {
      "name": "python3",
      "display_name": "Python 3"
    }
  },
  "cells": [
    {
      "cell_type": "markdown",
      "metadata": {
        "id": "view-in-github",
        "colab_type": "text"
      },
      "source": [
        "<a href=\"https://colab.research.google.com/github/luizbalestreri/TrabFundamentos/blob/main/AlgortimosdeOrdenacao.ipynb\" target=\"_parent\"><img src=\"https://colab.research.google.com/assets/colab-badge.svg\" alt=\"Open In Colab\"/></a>"
      ]
    },
    {
      "cell_type": "markdown",
      "metadata": {
        "id": "0ys6o58wJUkg"
      },
      "source": [
        "\n",
        "Inserir listas com tamanhos diferentes 100, 2000, 4000. Os valores devem ser atribuídos no próprio programa fonte ou lidos no início da execução.\n",
        "\n",
        "Simular os cenários com os valores aleatórios:\n",
        "\n",
        "-ordem crescente\n",
        "\n",
        "-ordem descrente\n",
        "\n",
        "Simular com lista ordenada\n",
        "\n",
        "i) Colocar um contador para calcular o número de comparações executadas. Ao final de cada execução imprimir o contador. Ao final das execuções, fazer uma tabela e comparar os resultados encontrados.\n",
        "\n",
        "ii)No lugar do contador colocar um delay. Calcular o tempo gastos. Ao final das execuções fazer e comparar os resultados encontrados.\n",
        "\n",
        "iii)Fazer uma analise dos valores encontrados correlacionando com a complexidade\n",
        "existente na literatura.\n",
        "\n",
        "Entrega do relatório e apresentar os resultados dia 27/11.\n",
        "\n",
        "Luiz + Lucas + Alex = select sort comparar Insert Sort"
      ]
    },
    {
      "cell_type": "code",
      "metadata": {
        "id": "Bh-MfEmEJqF0"
      },
      "source": [
        "import sys\n",
        "from time import *\n",
        "import random\n",
        "import matplotlib.pyplot as plt\n",
        "%matplotlib inline\n",
        "l1Size = 100\n",
        "l2Size = 2000\n",
        "l3Size = 4000\n",
        "contador = 0\n"
      ],
      "execution_count": null,
      "outputs": []
    },
    {
      "cell_type": "code",
      "metadata": {
        "id": "qe6ZH4NVKJ0Q"
      },
      "source": [
        "#Selection Crescente\n",
        "def ordenaC(A):\n",
        "  contador = 0  \n",
        "  for i in range(len(A)): \n",
        "      contador+=1; \n",
        "      min_idx = i; contador+=1;  #inicializa a variavel minimo\n",
        "      for j in range(i+1, len(A)): \n",
        "          contador+=1; \n",
        "          if A[min_idx] > A[j]: \n",
        "              contador+=1;\n",
        "              min_idx = j; contador+=1;           \n",
        "      A[i], A[min_idx] = A[min_idx], A[i]; contador+=2;  #troca o minimo pelo primeiro elemento\n",
        "  return(contador)\n"
      ],
      "execution_count": null,
      "outputs": []
    },
    {
      "cell_type": "code",
      "metadata": {
        "id": "CBRHCAvDGP2i"
      },
      "source": [
        "#Selection crescente Sleep\n",
        "def ordenaCSleep(A):\n",
        "  contador = 0  \n",
        "  for i in range(len(A)): \n",
        "      contador+=1; sleep(0.00001)\n",
        "      min_idx = i; contador+=1; sleep(0.00001) #inicializa a variavel minimo\n",
        "      for j in range(i+1, len(A)): \n",
        "          contador+=1; sleep(0.00001)\n",
        "          if A[min_idx] > A[j]: \n",
        "              contador+=1; sleep(0.00001)\n",
        "              min_idx = j; contador+=1; sleep(0.00001)          \n",
        "      A[i], A[min_idx] = A[min_idx], A[i]; contador+=2; sleep(0.00002) #troca o minimo pelo primeiro elemento\n",
        "  return(contador)"
      ],
      "execution_count": null,
      "outputs": []
    },
    {
      "cell_type": "code",
      "metadata": {
        "id": "P8p472fyGGQy"
      },
      "source": [
        "#Selection descrescente\n",
        "def ordenaD(A):\n",
        "  contador = 0\n",
        "  for i in range(len(A)): \n",
        "      contador+=1; \n",
        "      max_idx = i; contador+=1 \n",
        "      for j in range(i+1, len(A)): \n",
        "          contador+=1;         \n",
        "          if A[max_idx] < A[j]: \n",
        "            contador+=1; \n",
        "            max_idx = j; contador+=1;       \n",
        "      A[i], A[max_idx] = A[max_idx], A[i]; contador+=2; #troca o maximo pelo primeiro elemento\n",
        "  return(contador)"
      ],
      "execution_count": null,
      "outputs": []
    },
    {
      "cell_type": "code",
      "metadata": {
        "id": "SPlTxXZXfQWo"
      },
      "source": [
        "#Selectio descrescente com sleep\n",
        "def ordenaDSleep(A):\n",
        "  contador = 0\n",
        "  for i in range(len(A)): \n",
        "      contador+=1; sleep(0.00001)\n",
        "      max_idx = i; contador+=1 \n",
        "      for j in range(i+1, len(A)): \n",
        "          contador+=1; sleep(0.00001)        \n",
        "          if A[max_idx] < A[j]: \n",
        "            contador+=1; sleep(0.00001)\n",
        "            max_idx = j; contador+=1; sleep(0.00001)       \n",
        "      A[i], A[max_idx] = A[max_idx], A[i]; contador+=2;sleep(0.00002) #troca o maximo pelo primeiro elemento\n",
        "  return(contador)"
      ],
      "execution_count": null,
      "outputs": []
    },
    {
      "cell_type": "code",
      "metadata": {
        "id": "MAV8IlQeF3zP"
      },
      "source": [
        "def insertionC(arr):\n",
        "  contador = 0\n",
        "  for i in range(1, len(arr)):\n",
        "    contador+=1\n",
        "    key = arr[i];contador+=1\n",
        "    j = i-1;contador+=1\n",
        "    while j >=0 and key < arr[j] :\n",
        "        contador+=1\n",
        "        arr[j+1] = arr[j]; contador+=1\n",
        "        j -= 1; contador+=1\n",
        "    arr[j+1] = key; contador+=1\n",
        "  return contador\n",
        "\n",
        "def insertionD(arr):\n",
        "  contador = 0\n",
        "  for i in range(1, len(arr)):\n",
        "    contador+=1\n",
        "    key = arr[i]; contador+=1\n",
        "    j = i-1; contador+=1\n",
        "    while j >=0 and key > arr[j] :\n",
        "        contador+=1\n",
        "        arr[j+1] = arr[j]; contador+=1\n",
        "        j -= 1;contador+=1\n",
        "    arr[j+1] = key; contador+=1\n",
        "  return contador\n",
        "\n",
        "\n",
        "def insertionCSleep(arr):\n",
        "  contador = 0\n",
        "  for i in range(1, len(arr)):\n",
        "    contador+=1; sleep(0.00001)\n",
        "    key = arr[i];contador+=1;sleep(0.00001)\n",
        "    j = i-1;contador+=1;sleep(0.00001)\n",
        "    while j >=0 and key < arr[j] :\n",
        "        contador+=1;sleep(0.00001)\n",
        "        arr[j+1] = arr[j]; contador+=1;sleep(0.00001)\n",
        "        j -= 1; contador+=1;sleep(0.00001)\n",
        "    arr[j+1] = key; contador+=1;sleep(0.00001)\n",
        "  return contador\n",
        "\n",
        "def insertionDSleep(arr):\n",
        "  contador = 0\n",
        "  for i in range(1, len(arr)):\n",
        "    contador+=1;sleep(0.00001)\n",
        "    key = arr[i]; contador+=1;sleep(0.00001)\n",
        "    j = i-1; contador+=1;sleep(0.00001)\n",
        "    while j >=0 and key > arr[j] :\n",
        "        contador+=1;sleep(0.00001)\n",
        "        arr[j+1] = arr[j]; contador+=1;sleep(0.00001)\n",
        "        j -= 1;contador+=1;sleep(0.00001)\n",
        "    arr[j+1] = key; contador+=1;sleep(0.00001)\n",
        "  return contador"
      ],
      "execution_count": null,
      "outputs": []
    },
    {
      "cell_type": "markdown",
      "metadata": {
        "id": "hmGx31ovUOec"
      },
      "source": [
        "**Lista Ordenada**"
      ]
    },
    {
      "cell_type": "code",
      "metadata": {
        "id": "lxmZNpX1KUvq"
      },
      "source": [
        "l1 = []\n",
        "l2 = []\n",
        "l3 = []\n",
        "for i in range(l1Size):\n",
        "  l1.append(i)\n",
        "\n",
        "for i in range(l2Size):\n",
        "  l2.append(i)\n",
        "\n",
        "for i in range(l3Size):\n",
        "  l3.append(i)\n"
      ],
      "execution_count": null,
      "outputs": []
    },
    {
      "cell_type": "code",
      "metadata": {
        "colab": {
          "base_uri": "https://localhost:8080/",
          "height": 671
        },
        "id": "72eua2_cFgkD",
        "outputId": "4fd688ba-6178-4de1-85b7-4501f5fc37ce"
      },
      "source": [
        "print(\"Selection Crescente\")\n",
        "print(\"100: \", ordenaC(l1.copy()))\n",
        "print(\"2000: \", ordenaC(l2.copy()))\n",
        "print(\"4000: \", ordenaC(l3.copy()))\n",
        "plt.plot([l1Size, l2Size, l3Size],[ordenaC(l1.copy()), ordenaC(l2.copy()), ordenaC(l3.copy())])\n",
        "plt.show()\n",
        "print(\"Selection Decrescente\")\n",
        "print(\"100: \", ordenaD(l1.copy()))\n",
        "print(\"2000: \", ordenaD(l2.copy()))\n",
        "print(\"4000: \", ordenaD(l3.copy()))\n",
        "plt.plot([l1Size, l2Size, l3Size],[ordenaD(l1.copy()), ordenaD(l2.copy()), ordenaD(l3.copy())])\n",
        "plt.show()"
      ],
      "execution_count": null,
      "outputs": [
        {
          "output_type": "stream",
          "text": [
            "Selection Crescente\n",
            "100:  5350\n",
            "2000:  2007000\n",
            "4000:  8014000\n"
          ],
          "name": "stdout"
        },
        {
          "output_type": "display_data",
          "data": {
            "image/png": "[encoded data removed]",
            "text/plain": [
              "<Figure size 432x288 with 1 Axes>"
            ]
          },
          "metadata": {
            "tags": [],
            "needs_background": "light"
          }
        },
        {
          "output_type": "stream",
          "text": [
            "Selection Decrescente\n",
            "100:  10350\n",
            "2000:  4007000\n",
            "4000:  16014000\n"
          ],
          "name": "stdout"
        },
        {
          "output_type": "display_data",
          "data": {
            "image/png": "[encoded data removed]",
            "text/plain": [
              "<Figure size 432x288 with 1 Axes>"
            ]
          },
          "metadata": {
            "tags": [],
            "needs_background": "light"
          }
        }
      ]
    },
    {
      "cell_type": "code",
      "metadata": {
        "colab": {
          "base_uri": "https://localhost:8080/",
          "height": 671
        },
        "id": "XXyWHgdmQeOb",
        "outputId": "72b02049-4030-4841-db61-aa0fe561c2ed"
      },
      "source": [
        "print(\"Insertion Crescente\")\n",
        "print(\"100: \", insertionC(l1.copy()))\n",
        "print(\"2000: \", insertionC(l2.copy()))\n",
        "print(\"4000: \", insertionC(l3.copy()))\n",
        "plt.plot([l1Size, l2Size, l3Size],[ordenaC(l1.copy()), ordenaC(l2.copy()), ordenaC(l3.copy())])\n",
        "plt.show()\n",
        "print(\"Insertion Decrescente\")\n",
        "print(\"100: \", insertionD(l1.copy()))\n",
        "print(\"2000: \", insertionD(l2.copy()))\n",
        "print(\"4000: \", insertionD(l3.copy()))\n",
        "plt.plot([l1Size, l2Size, l3Size],[ordenaD(l1.copy()), ordenaD(l2.copy()), ordenaD(l3.copy())])\n",
        "plt.show()"
      ],
      "execution_count": null,
      "outputs": [
        {
          "output_type": "stream",
          "text": [
            "Insertion Crescente\n",
            "100:  396\n",
            "2000:  7996\n",
            "4000:  15996\n"
          ],
          "name": "stdout"
        },
        {
          "output_type": "display_data",
          "data": {
            "image/png": "[encoded data removed]",
            "text/plain": [
              "<Figure size 432x288 with 1 Axes>"
            ]
          },
          "metadata": {
            "tags": [],
            "needs_background": "light"
          }
        },
        {
          "output_type": "stream",
          "text": [
            "Insertion Decrescente\n",
            "100:  15246\n",
            "2000:  6004996\n",
            "4000:  24009996\n"
          ],
          "name": "stdout"
        },
        {
          "output_type": "display_data",
          "data": {
            "image/png": "[encoded data removed]",
            "text/plain": [
              "<Figure size 432x288 with 1 Axes>"
            ]
          },
          "metadata": {
            "tags": [],
            "needs_background": "light"
          }
        }
      ]
    },
    {
      "cell_type": "code",
      "metadata": {
        "colab": {
          "base_uri": "https://localhost:8080/"
        },
        "id": "w3tW-71yG2-Y",
        "outputId": "07359bda-2af6-469e-b9d8-b2e1efadeaab"
      },
      "source": [
        "print(\"Selection Crescente:\")\n",
        "print(\"100:\")\n",
        "%time ordenaCSleep(l1.copy())\n",
        "print(\"Iterações: \", ordenaC(l1.copy()))\n",
        "print(\"2000:\")\n",
        "%time ordenaCSleep(l2.copy())\n",
        "print(\"Iterações: \", ordenaC(l2.copy()))\n",
        "print(\"4000:\")\n",
        "%time ordenaCSleep(l3.copy())\n",
        "print(\"Iterações: \", ordenaC(l3.copy()))\n",
        "\n",
        "print(\"Selection Decrescente:\")\n",
        "print(\"100:\")\n",
        "%time ordenaDSleep(l1.copy())\n",
        "print(\"Iterações: \", ordenaD(l1.copy()))\n",
        "print(\"2000:\")\n",
        "%time ordenaDSleep(l2.copy())\n",
        "print(\"Iterações: \", ordenaD(l2.copy()))\n",
        "print(\"4000:\")\n",
        "%time ordenaDSleep(l3.copy())\n",
        "print(\"Iterações: \", ordenaD(l3.copy()))"
      ],
      "execution_count": null,
      "outputs": [
        {
          "output_type": "stream",
          "text": [
            "Selection Crescente:\n",
            "100:\n",
            "CPU times: user 21.4 ms, sys: 9.65 ms, total: 31.1 ms\n",
            "Wall time: 360 ms\n",
            "Iterações:  5350\n",
            "2000:\n",
            "CPU times: user 5.34 s, sys: 6.18 s, total: 11.5 s\n",
            "Wall time: 2min 16s\n",
            "Iterações:  2007000\n",
            "4000:\n",
            "CPU times: user 11.8 s, sys: 34.1 s, total: 45.9 s\n",
            "Wall time: 9min 5s\n",
            "Iterações:  8014000\n",
            "Selection Decrescente:\n",
            "100:\n",
            "CPU times: user 58.4 ms, sys: 0 ns, total: 58.4 ms\n",
            "Wall time: 692 ms\n",
            "Iterações:  10350\n",
            "2000:\n",
            "CPU times: user 4.76 s, sys: 18.1 s, total: 22.9 s\n",
            "Wall time: 4min 32s\n",
            "Iterações:  4007000\n",
            "4000:\n",
            "CPU times: user 17.3 s, sys: 1min 16s, total: 1min 33s\n",
            "Wall time: 18min 15s\n",
            "Iterações:  16014000\n"
          ],
          "name": "stdout"
        }
      ]
    },
    {
      "cell_type": "code",
      "metadata": {
        "colab": {
          "base_uri": "https://localhost:8080/"
        },
        "id": "sb36BzP1SkOK",
        "outputId": "7e61b9f3-3316-46e3-ec12-65c44e3278a1"
      },
      "source": [
        "print(\"Insertion Crescente:\")\n",
        "print(\"100:\")\n",
        "%time insertionCSleep(l1.copy())\n",
        "print(\"Iterações: \", insertionC(l1.copy()))\n",
        "print(\"2000:\")\n",
        "%time insertionCSleep(l2.copy())\n",
        "print(\"Iterações: \", insertionC(l2.copy()))\n",
        "print(\"4000:\")\n",
        "%time insertionCSleep(l3.copy())\n",
        "print(\"Iterações: \", insertionC(l3.copy()))\n",
        "\n",
        "print(\"Insertion Decrescente:\")\n",
        "print(\"100:\")\n",
        "%time insertionDSleep(l1.copy())\n",
        "print(\"Iterações: \", insertionD(l1.copy()))\n",
        "print(\"2000:\")\n",
        "%time insertionDSleep(l2.copy())\n",
        "print(\"Iterações: \", insertionD(l2.copy()))\n",
        "print(\"4000:\")\n",
        "%time insertionDSleep(l3.copy())\n",
        "print(\"Iterações: \", insertionD(l3.copy()))"
      ],
      "execution_count": null,
      "outputs": [
        {
          "output_type": "stream",
          "text": [
            "Insertion Crescente:\n",
            "100:\n",
            "CPU times: user 2.9 ms, sys: 0 ns, total: 2.9 ms\n",
            "Wall time: 27.3 ms\n",
            "Iterações:  396\n",
            "2000:\n",
            "CPU times: user 48.1 ms, sys: 0 ns, total: 48.1 ms\n",
            "Wall time: 550 ms\n",
            "Iterações:  7996\n",
            "4000:\n",
            "CPU times: user 98.1 ms, sys: 0 ns, total: 98.1 ms\n",
            "Wall time: 1.11 s\n",
            "Iterações:  15996\n",
            "Insertion Decrescente:\n",
            "100:\n",
            "CPU times: user 88.4 ms, sys: 0 ns, total: 88.4 ms\n",
            "Wall time: 1.04 s\n",
            "Iterações:  15246\n",
            "2000:\n",
            "CPU times: user 6.84 s, sys: 28.4 s, total: 35.2 s\n",
            "Wall time: 6min 50s\n",
            "Iterações:  6004996\n",
            "4000:\n",
            "CPU times: user 25.9 s, sys: 1min 54s, total: 2min 20s\n",
            "Wall time: 27min 21s\n",
            "Iterações:  24009996\n"
          ],
          "name": "stdout"
        }
      ]
    },
    {
      "cell_type": "markdown",
      "metadata": {
        "id": "-LiLji2YTM1d"
      },
      "source": [
        "**Lista Randomica**:\n"
      ]
    },
    {
      "cell_type": "code",
      "metadata": {
        "id": "xBu2E1pgL2G2"
      },
      "source": [
        "#popula random\n",
        "l1 = []\n",
        "l2 = []\n",
        "l3 = []\n",
        "for i in range(l1Size):\n",
        "  l1.append(random.randint(0, 2500))\n",
        "\n",
        "for i in range(l2Size):\n",
        "  l2.append(random.randint(0,5000))\n",
        "\n",
        "for i in range(l3Size):\n",
        "  l3.append(random.randint(0, 50000))"
      ],
      "execution_count": null,
      "outputs": []
    },
    {
      "cell_type": "code",
      "metadata": {
        "colab": {
          "base_uri": "https://localhost:8080/",
          "height": 671
        },
        "id": "Yr-0OKLUnNS-",
        "outputId": "38e98bee-a3a0-4fe5-c442-1ba2d1e08e70"
      },
      "source": [
        "print(\"Selection Crescente\")\n",
        "print(\"100: \", ordenaC(l1.copy()))\n",
        "print(\"2000: \", ordenaC(l2.copy()))\n",
        "print(\"4000: \", ordenaC(l3.copy()))\n",
        "plt.plot([l1Size, l2Size, l3Size],[ordenaC(l1.copy()), ordenaC(l2.copy()), ordenaC(l3.copy())])\n",
        "plt.show()\n",
        "print(\"Selection Decrescente\")\n",
        "print(\"100: \", ordenaD(l1.copy()))\n",
        "print(\"2000: \", ordenaD(l2.copy()))\n",
        "print(\"4000: \", ordenaD(l3.copy()))\n",
        "plt.plot([l1Size, l2Size, l3Size],[ordenaD(l1.copy()), ordenaD(l2.copy()), ordenaD(l3.copy())])\n",
        "plt.show()"
      ],
      "execution_count": null,
      "outputs": [
        {
          "output_type": "stream",
          "text": [
            "Selection Crescente\n",
            "100:  5984\n",
            "2000:  2032038\n",
            "4000:  8068058\n"
          ],
          "name": "stdout"
        },
        {
          "output_type": "display_data",
          "data": {
            "image/png": "[encoded data removed]",
            "text/plain": [
              "<Figure size 432x288 with 1 Axes>"
            ]
          },
          "metadata": {
            "tags": [],
            "needs_background": "light"
          }
        },
        {
          "output_type": "stream",
          "text": [
            "Selection Decrescente\n",
            "100:  5978\n",
            "2000:  2030952\n",
            "4000:  8069492\n"
          ],
          "name": "stdout"
        },
        {
          "output_type": "display_data",
          "data": {
            "image/png": "[encoded data removed]",
            "text/plain": [
              "<Figure size 432x288 with 1 Axes>"
            ]
          },
          "metadata": {
            "tags": [],
            "needs_background": "light"
          }
        }
      ]
    },
    {
      "cell_type": "code",
      "metadata": {
        "colab": {
          "base_uri": "https://localhost:8080/",
          "height": 671
        },
        "id": "s1K4prxJTD6l",
        "outputId": "11f07566-5825-4f7e-c417-4f298620dfcd"
      },
      "source": [
        "print(\"Insertion Crescente\")\n",
        "print(\"100: \", insertionC(l1.copy()))\n",
        "print(\"2000: \", insertionC(l2.copy()))\n",
        "print(\"4000: \", insertionC(l3.copy()))\n",
        "plt.plot([l1Size, l2Size, l3Size],[ordenaC(l1.copy()), ordenaC(l2.copy()), ordenaC(l3.copy())])\n",
        "plt.show()\n",
        "print(\"Insertion Decrescente\")\n",
        "print(\"100: \", insertionD(l1.copy()))\n",
        "print(\"2000: \", insertionD(l2.copy()))\n",
        "print(\"4000: \", insertionD(l3.copy()))\n",
        "plt.plot([l1Size, l2Size, l3Size],[ordenaD(l1.copy()), ordenaD(l2.copy()), ordenaD(l3.copy())], 'ro')\n",
        "plt.show()"
      ],
      "execution_count": null,
      "outputs": [
        {
          "output_type": "stream",
          "text": [
            "Insertion Crescente\n",
            "100:  6699\n",
            "2000:  3023707\n",
            "4000:  12014994\n"
          ],
          "name": "stdout"
        },
        {
          "output_type": "display_data",
          "data": {
            "image/png": "[encoded data removed]",
            "text/plain": [
              "<Figure size 432x288 with 1 Axes>"
            ]
          },
          "metadata": {
            "tags": [],
            "needs_background": "light"
          }
        },
        {
          "output_type": "stream",
          "text": [
            "Insertion Decrescente\n",
            "100:  8937\n",
            "2000:  2988064\n",
            "4000:  12010476\n"
          ],
          "name": "stdout"
        },
        {
          "output_type": "display_data",
          "data": {
            "image/png": "[encoded data removed]",
            "text/plain": [
              "<Figure size 432x288 with 1 Axes>"
            ]
          },
          "metadata": {
            "tags": [],
            "needs_background": "light"
          }
        }
      ]
    },
    {
      "cell_type": "code",
      "metadata": {
        "colab": {
          "base_uri": "https://localhost:8080/"
        },
        "id": "uX23_q9yUiLe",
        "outputId": "d3f133c1-58d2-445c-e962-366e619461c5"
      },
      "source": [
        "print(\"Selection Crescente:\")\n",
        "print(\"100:\")\n",
        "%time ordenaCSleep(l1.copy())\n",
        "print(\"Iterações: \", ordenaC(l1.copy()))\n",
        "print(\"2000:\")\n",
        "%time ordenaCSleep(l2.copy())\n",
        "print(\"Iterações: \", ordenaC(l2.copy()))\n",
        "print(\"4000:\")\n",
        "%time ordenaCSleep(l3.copy())\n",
        "print(\"Iterações: \", ordenaC(l3.copy()))\n",
        "\n",
        "print(\"Selection Decrescente:\")\n",
        "print(\"100:\")\n",
        "%time ordenaDSleep(l1.copy())\n",
        "print(\"Iterações: \", ordenaD(l1.copy()))\n",
        "print(\"2000:\")\n",
        "%time ordenaDSleep(l2.copy())\n",
        "print(\"Iterações: \", ordenaD(l2.copy()))\n",
        "print(\"4000:\")\n",
        "%time ordenaDSleep(l3.copy())\n",
        "print(\"Iterações: \", ordenaD(l3.copy()))"
      ],
      "execution_count": null,
      "outputs": [
        {
          "output_type": "stream",
          "text": [
            "Selection Crescente:\n",
            "100:\n",
            "CPU times: user 35.6 ms, sys: 0 ns, total: 35.6 ms\n",
            "Wall time: 406 ms\n",
            "Iterações:  5984\n",
            "2000:\n",
            "CPU times: user 10.4 s, sys: 1.68 s, total: 12.1 s\n",
            "Wall time: 2min 19s\n",
            "Iterações:  2032038\n",
            "4000:\n",
            "CPU times: user 8.61 s, sys: 38.6 s, total: 47.3 s\n",
            "Wall time: 9min 11s\n",
            "Iterações:  8068058\n",
            "Selection Decrescente:\n",
            "100:\n",
            "CPU times: user 38 ms, sys: 0 ns, total: 38 ms\n",
            "Wall time: 399 ms\n",
            "Iterações:  5978\n",
            "2000:\n",
            "CPU times: user 2.69 s, sys: 9.03 s, total: 11.7 s\n",
            "Wall time: 2min 18s\n",
            "Iterações:  2030952\n",
            "4000:\n",
            "CPU times: user 8.36 s, sys: 38.1 s, total: 46.5 s\n",
            "Wall time: 9min 9s\n",
            "Iterações:  8069492\n"
          ],
          "name": "stdout"
        }
      ]
    },
    {
      "cell_type": "code",
      "metadata": {
        "colab": {
          "base_uri": "https://localhost:8080/"
        },
        "id": "9fOKj8GCJ1vq",
        "outputId": "cc54daa7-627f-40e3-cbbc-607cc727a153"
      },
      "source": [
        "print(\"Insertion Crescente:\")\n",
        "print(\"100:\")\n",
        "%time insertionCSleep(l1.copy())\n",
        "print(\"Iterações: \", insertionC(l1.copy()))\n",
        "print(\"2000:\")\n",
        "%time insertionCSleep(l2.copy())\n",
        "print(\"Iterações: \", insertionC(l2.copy()))\n",
        "print(\"4000:\")\n",
        "%time insertionCSleep(l3.copy())\n",
        "print(\"Iterações: \", insertionC(l3.copy()))\n",
        "\n",
        "print(\"Insertion Decrescente:\")\n",
        "print(\"100:\")\n",
        "%time insertionDSleep(l1.copy())\n",
        "print(\"Iterações: \", insertionD(l1.copy()))\n",
        "print(\"2000:\")\n",
        "%time insertionDSleep(l2.copy())\n",
        "print(\"Iterações: \", insertionD(l2.copy()))\n",
        "print(\"4000:\")\n",
        "%time insertionDSleep(l3.copy())\n",
        "print(\"Iterações: \", insertionD(l3.copy()))"
      ],
      "execution_count": null,
      "outputs": [
        {
          "output_type": "stream",
          "text": [
            "Insertion Crescente:\n",
            "100:\n",
            "CPU times: user 42.7 ms, sys: 0 ns, total: 42.7 ms\n",
            "Wall time: 466 ms\n",
            "Iterações:  6699\n",
            "2000:\n",
            "CPU times: user 3.98 s, sys: 14.2 s, total: 18.2 s\n",
            "Wall time: 3min 27s\n",
            "Iterações:  3023707\n",
            "4000:\n",
            "CPU times: user 12.7 s, sys: 57.2 s, total: 1min 9s\n",
            "Wall time: 13min 39s\n",
            "Iterações:  12014994\n",
            "Insertion Decrescente:\n",
            "100:\n",
            "CPU times: user 58.7 ms, sys: 0 ns, total: 58.7 ms\n",
            "Wall time: 618 ms\n",
            "Iterações:  8937\n",
            "2000:\n",
            "CPU times: user 3.81 s, sys: 13.7 s, total: 17.5 s\n",
            "Wall time: 3min 25s\n",
            "Iterações:  2988064\n",
            "4000:\n",
            "CPU times: user 13.3 s, sys: 56.6 s, total: 1min 9s\n",
            "Wall time: 13min 42s\n",
            "Iterações:  12010476\n"
          ],
          "name": "stdout"
        }
      ]
    }
  ]
}